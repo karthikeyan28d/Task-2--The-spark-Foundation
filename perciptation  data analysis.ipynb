{
    "cells": [
        {
            "metadata": {},
            "cell_type": "code",
            "source": "\nimport os, types\nimport pandas as pd\nfrom botocore.client import Config\nimport ibm_boto3\n\ndef __iter__(self): return 0\n\n# @hidden_cell\n# The following code accesses a file in your IBM Cloud Object Storage. It includes your credentials.\n# You might want to remove those credentials before you share the notebook.\n\nif os.environ.get('RUNTIME_ENV_LOCATION_TYPE') == 'external':\n    endpoint_1c331b5980674f68b7db79fc7b725ab3 = 'https://s3.eu.cloud-object-storage.appdomain.cloud'\nelse:\n    endpoint_1c331b5980674f68b7db79fc7b725ab3 = 'https://s3.private.eu.cloud-object-storage.appdomain.cloud'\n\nclient_1c331b5980674f68b7db79fc7b725ab3 = ibm_boto3.client(service_name='s3',\n    ibm_api_key_id='myQV_Ua1eRsrcrCXhGvJI4_vmgehJPaWCgebXFIOrEwn',\n    ibm_auth_endpoint=\"https://iam.cloud.ibm.com/oidc/token\",\n    config=Config(signature_version='oauth'),\n    endpoint_url=endpoint_1c331b5980674f68b7db79fc7b725ab3)\n\nbody = client_1c331b5980674f68b7db79fc7b725ab3.get_object(Bucket='test1-donotdelete-pr-tuvomtcfxkbijr',Key='MLB Stats.csv')['Body']\n# add missing __iter__ method, so pandas accepts body as file-like object\nif not hasattr(body, \"__iter__\"): body.__iter__ = types.MethodType( __iter__, body )\n\ndf_data_1 = pd.read_csv(body)\ndf_data_1.head()\n",
            "execution_count": 1,
            "outputs": [
                {
                    "output_type": "execute_result",
                    "execution_count": 1,
                    "data": {
                        "text/plain": "    playerID    Player Name  weight  height bats throws  Season League teamID  \\\n0  aardsda01  David Aardsma     215      75    R      R    2004     NL    SFN   \n1  aardsda01  David Aardsma     215      75    R      R    2007     AL    CHA   \n2  aardsda01  David Aardsma     215      75    R      R    2008     AL    BOS   \n3  aardsda01  David Aardsma     215      75    R      R    2009     AL    SEA   \n4  aardsda01  David Aardsma     215      75    R      R    2012     AL    NYA   \n\n                   Team  ... RBI  SB  BB  SO  salary  IBB  HBP  SH  SF  PA  \n0  San Francisco Giants  ...   0   0   0   0  300000    0    0   0   0   0  \n1     Chicago White Sox  ...   0   0   0   0  387500    0    0   0   0   0  \n2        Boston Red Sox  ...   0   0   0   1  403250    0    0   0   0   1  \n3      Seattle Mariners  ...   0   0   0   0  419000    0    0   0   0   0  \n4      New York Yankees  ...   0   0   0   0  500000    0    0   0   0   0  \n\n[5 rows x 28 columns]",
                        "text/html": "<div>\n<style scoped>\n    .dataframe tbody tr th:only-of-type {\n        vertical-align: middle;\n    }\n\n    .dataframe tbody tr th {\n        vertical-align: top;\n    }\n\n    .dataframe thead th {\n        text-align: right;\n    }\n</style>\n<table border=\"1\" class=\"dataframe\">\n  <thead>\n    <tr style=\"text-align: right;\">\n      <th></th>\n      <th>playerID</th>\n      <th>Player Name</th>\n      <th>weight</th>\n      <th>height</th>\n      <th>bats</th>\n      <th>throws</th>\n      <th>Season</th>\n      <th>League</th>\n      <th>teamID</th>\n      <th>Team</th>\n      <th>...</th>\n      <th>RBI</th>\n      <th>SB</th>\n      <th>BB</th>\n      <th>SO</th>\n      <th>salary</th>\n      <th>IBB</th>\n      <th>HBP</th>\n      <th>SH</th>\n      <th>SF</th>\n      <th>PA</th>\n    </tr>\n  </thead>\n  <tbody>\n    <tr>\n      <th>0</th>\n      <td>aardsda01</td>\n      <td>David Aardsma</td>\n      <td>215</td>\n      <td>75</td>\n      <td>R</td>\n      <td>R</td>\n      <td>2004</td>\n      <td>NL</td>\n      <td>SFN</td>\n      <td>San Francisco Giants</td>\n      <td>...</td>\n      <td>0</td>\n      <td>0</td>\n      <td>0</td>\n      <td>0</td>\n      <td>300000</td>\n      <td>0</td>\n      <td>0</td>\n      <td>0</td>\n      <td>0</td>\n      <td>0</td>\n    </tr>\n    <tr>\n      <th>1</th>\n      <td>aardsda01</td>\n      <td>David Aardsma</td>\n      <td>215</td>\n      <td>75</td>\n      <td>R</td>\n      <td>R</td>\n      <td>2007</td>\n      <td>AL</td>\n      <td>CHA</td>\n      <td>Chicago White Sox</td>\n      <td>...</td>\n      <td>0</td>\n      <td>0</td>\n      <td>0</td>\n      <td>0</td>\n      <td>387500</td>\n      <td>0</td>\n      <td>0</td>\n      <td>0</td>\n      <td>0</td>\n      <td>0</td>\n    </tr>\n    <tr>\n      <th>2</th>\n      <td>aardsda01</td>\n      <td>David Aardsma</td>\n      <td>215</td>\n      <td>75</td>\n      <td>R</td>\n      <td>R</td>\n      <td>2008</td>\n      <td>AL</td>\n      <td>BOS</td>\n      <td>Boston Red Sox</td>\n      <td>...</td>\n      <td>0</td>\n      <td>0</td>\n      <td>0</td>\n      <td>1</td>\n      <td>403250</td>\n      <td>0</td>\n      <td>0</td>\n      <td>0</td>\n      <td>0</td>\n      <td>1</td>\n    </tr>\n    <tr>\n      <th>3</th>\n      <td>aardsda01</td>\n      <td>David Aardsma</td>\n      <td>215</td>\n      <td>75</td>\n      <td>R</td>\n      <td>R</td>\n      <td>2009</td>\n      <td>AL</td>\n      <td>SEA</td>\n      <td>Seattle Mariners</td>\n      <td>...</td>\n      <td>0</td>\n      <td>0</td>\n      <td>0</td>\n      <td>0</td>\n      <td>419000</td>\n      <td>0</td>\n      <td>0</td>\n      <td>0</td>\n      <td>0</td>\n      <td>0</td>\n    </tr>\n    <tr>\n      <th>4</th>\n      <td>aardsda01</td>\n      <td>David Aardsma</td>\n      <td>215</td>\n      <td>75</td>\n      <td>R</td>\n      <td>R</td>\n      <td>2012</td>\n      <td>AL</td>\n      <td>NYA</td>\n      <td>New York Yankees</td>\n      <td>...</td>\n      <td>0</td>\n      <td>0</td>\n      <td>0</td>\n      <td>0</td>\n      <td>500000</td>\n      <td>0</td>\n      <td>0</td>\n      <td>0</td>\n      <td>0</td>\n      <td>0</td>\n    </tr>\n  </tbody>\n</table>\n<p>5 rows \u00d7 28 columns</p>\n</div>"
                    },
                    "metadata": {}
                }
            ]
        },
        {
            "metadata": {},
            "cell_type": "code",
            "source": "",
            "execution_count": null,
            "outputs": []
        }
    ],
    "metadata": {
        "kernelspec": {
            "name": "python3",
            "display_name": "Python 3.7",
            "language": "python"
        },
        "language_info": {
            "name": "python",
            "version": "3.7.10",
            "mimetype": "text/x-python",
            "codemirror_mode": {
                "name": "ipython",
                "version": 3
            },
            "pygments_lexer": "ipython3",
            "nbconvert_exporter": "python",
            "file_extension": ".py"
        }
    },
    "nbformat": 4,
    "nbformat_minor": 1
}